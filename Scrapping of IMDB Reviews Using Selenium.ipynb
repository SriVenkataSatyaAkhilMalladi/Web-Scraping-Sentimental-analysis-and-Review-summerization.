{
  "nbformat": 4,
  "nbformat_minor": 0,
  "metadata": {
    "colab": {
      "provenance": []
    },
    "kernelspec": {
      "name": "python3",
      "display_name": "Python 3"
    },
    "language_info": {
      "name": "python"
    }
  },
  "cells": [
    {
      "cell_type": "code",
      "source": [
        "%%shell\n",
        "# Install chromium and chromium-driver\n",
        "apt-get update\n",
        "apt-get install chromium chromium-driver\n",
        "\n",
        "# Install selenium\n",
        "pip install selenium\n",
        "pip install --upgrade selenium\n"
      ],
      "metadata": {
        "colab": {
          "base_uri": "https://localhost:8080/"
        },
        "id": "f5m9A8NHeC0N",
        "outputId": "487d89c0-10cd-4a88-dd9c-53c597c71f10"
      },
      "execution_count": null,
      "outputs": [
        {
          "output_type": "stream",
          "name": "stdout",
          "text": [
            "\r0% [Working]\r            \rHit:1 http://deb.debian.org/debian buster InRelease\n",
            "\r0% [Connecting to archive.ubuntu.com (91.189.91.39)] [Connecting to security.ub\r                                                                               \rHit:2 http://deb.debian.org/debian buster-updates InRelease\n",
            "\r0% [Waiting for headers] [Connecting to security.ubuntu.com] [Connected to clou\r                                                                               \rHit:3 http://deb.debian.org/debian-security buster/updates InRelease\n",
            "\r0% [Waiting for headers] [Connecting to security.ubuntu.com] [Connected to clou\r                                                                               \rHit:4 http://archive.ubuntu.com/ubuntu focal InRelease\n",
            "\r0% [Waiting for headers] [Connecting to security.ubuntu.com] [Waiting for heade\r                                                                               \rHit:5 http://archive.ubuntu.com/ubuntu focal-updates InRelease\n",
            "\r0% [Waiting for headers] [Connecting to security.ubuntu.com (185.125.190.36)] [\r                                                                               \rHit:6 https://cloud.r-project.org/bin/linux/ubuntu focal-cran40/ InRelease\n",
            "\r0% [Waiting for headers] [Connecting to security.ubuntu.com (185.125.190.36)] [\r                                                                               \rHit:7 https://developer.download.nvidia.com/compute/cuda/repos/ubuntu2004/x86_64  InRelease\n",
            "\r0% [Waiting for headers] [Connecting to security.ubuntu.com (185.125.190.36)] [\r0% [Waiting for headers] [Connecting to security.ubuntu.com (185.125.190.36)] [\r                                                                               \rHit:8 http://archive.ubuntu.com/ubuntu focal-backports InRelease\n",
            "\r                                                                               \r0% [Connecting to security.ubuntu.com (185.125.190.36)] [Waiting for headers]\r0% [Connecting to security.ubuntu.com (185.125.190.36)] [Waiting for headers]\r                                                                             \rHit:9 http://ppa.launchpad.net/c2d4u.team/c2d4u4.0+/ubuntu focal InRelease\n",
            "Hit:10 http://security.ubuntu.com/ubuntu focal-security InRelease\n",
            "Hit:11 http://ppa.launchpad.net/cran/libgit2/ubuntu focal InRelease\n",
            "Hit:12 http://ppa.launchpad.net/deadsnakes/ppa/ubuntu focal InRelease\n",
            "Hit:13 http://ppa.launchpad.net/graphics-drivers/ppa/ubuntu focal InRelease\n",
            "Hit:14 http://ppa.launchpad.net/ubuntugis/ppa/ubuntu focal InRelease\n",
            "Reading package lists... Done\n",
            "Reading package lists... Done\n",
            "Building dependency tree       \n",
            "Reading state information... Done\n",
            "chromium is already the newest version (90.0.4430.212-1~deb10u1).\n",
            "chromium-driver is already the newest version (90.0.4430.212-1~deb10u1).\n",
            "0 upgraded, 0 newly installed, 0 to remove and 43 not upgraded.\n",
            "Looking in indexes: https://pypi.org/simple, https://us-python.pkg.dev/colab-wheels/public/simple/\n",
            "Requirement already satisfied: selenium in /usr/local/lib/python3.10/dist-packages (4.9.1)\n",
            "Requirement already satisfied: urllib3[socks]<3,>=1.26 in /usr/local/lib/python3.10/dist-packages (from selenium) (1.26.15)\n",
            "Requirement already satisfied: trio~=0.17 in /usr/local/lib/python3.10/dist-packages (from selenium) (0.22.0)\n",
            "Requirement already satisfied: trio-websocket~=0.9 in /usr/local/lib/python3.10/dist-packages (from selenium) (0.10.2)\n",
            "Requirement already satisfied: certifi>=2021.10.8 in /usr/local/lib/python3.10/dist-packages (from selenium) (2022.12.7)\n",
            "Requirement already satisfied: attrs>=19.2.0 in /usr/local/lib/python3.10/dist-packages (from trio~=0.17->selenium) (23.1.0)\n",
            "Requirement already satisfied: sortedcontainers in /usr/local/lib/python3.10/dist-packages (from trio~=0.17->selenium) (2.4.0)\n",
            "Requirement already satisfied: async-generator>=1.9 in /usr/local/lib/python3.10/dist-packages (from trio~=0.17->selenium) (1.10)\n",
            "Requirement already satisfied: idna in /usr/local/lib/python3.10/dist-packages (from trio~=0.17->selenium) (3.4)\n",
            "Requirement already satisfied: outcome in /usr/local/lib/python3.10/dist-packages (from trio~=0.17->selenium) (1.2.0)\n",
            "Requirement already satisfied: sniffio in /usr/local/lib/python3.10/dist-packages (from trio~=0.17->selenium) (1.3.0)\n",
            "Requirement already satisfied: exceptiongroup>=1.0.0rc9 in /usr/local/lib/python3.10/dist-packages (from trio~=0.17->selenium) (1.1.1)\n",
            "Requirement already satisfied: wsproto>=0.14 in /usr/local/lib/python3.10/dist-packages (from trio-websocket~=0.9->selenium) (1.2.0)\n",
            "Requirement already satisfied: PySocks!=1.5.7,<2.0,>=1.5.6 in /usr/local/lib/python3.10/dist-packages (from urllib3[socks]<3,>=1.26->selenium) (1.7.1)\n",
            "Requirement already satisfied: h11<1,>=0.9.0 in /usr/local/lib/python3.10/dist-packages (from wsproto>=0.14->trio-websocket~=0.9->selenium) (0.14.0)\n",
            "Looking in indexes: https://pypi.org/simple, https://us-python.pkg.dev/colab-wheels/public/simple/\n",
            "Requirement already satisfied: beautifulsoup4 in /usr/local/lib/python3.10/dist-packages (4.11.2)\n",
            "Requirement already satisfied: soupsieve>1.2 in /usr/local/lib/python3.10/dist-packages (from beautifulsoup4) (2.4.1)\n",
            "Looking in indexes: https://pypi.org/simple, https://us-python.pkg.dev/colab-wheels/public/simple/\n",
            "Requirement already satisfied: selenium in /usr/local/lib/python3.10/dist-packages (4.9.1)\n",
            "Requirement already satisfied: urllib3[socks]<3,>=1.26 in /usr/local/lib/python3.10/dist-packages (from selenium) (1.26.15)\n",
            "Requirement already satisfied: trio~=0.17 in /usr/local/lib/python3.10/dist-packages (from selenium) (0.22.0)\n",
            "Requirement already satisfied: trio-websocket~=0.9 in /usr/local/lib/python3.10/dist-packages (from selenium) (0.10.2)\n",
            "Requirement already satisfied: certifi>=2021.10.8 in /usr/local/lib/python3.10/dist-packages (from selenium) (2022.12.7)\n",
            "Requirement already satisfied: attrs>=19.2.0 in /usr/local/lib/python3.10/dist-packages (from trio~=0.17->selenium) (23.1.0)\n",
            "Requirement already satisfied: sortedcontainers in /usr/local/lib/python3.10/dist-packages (from trio~=0.17->selenium) (2.4.0)\n",
            "Requirement already satisfied: async-generator>=1.9 in /usr/local/lib/python3.10/dist-packages (from trio~=0.17->selenium) (1.10)\n",
            "Requirement already satisfied: idna in /usr/local/lib/python3.10/dist-packages (from trio~=0.17->selenium) (3.4)\n",
            "Requirement already satisfied: outcome in /usr/local/lib/python3.10/dist-packages (from trio~=0.17->selenium) (1.2.0)\n",
            "Requirement already satisfied: sniffio in /usr/local/lib/python3.10/dist-packages (from trio~=0.17->selenium) (1.3.0)\n",
            "Requirement already satisfied: exceptiongroup>=1.0.0rc9 in /usr/local/lib/python3.10/dist-packages (from trio~=0.17->selenium) (1.1.1)\n",
            "Requirement already satisfied: wsproto>=0.14 in /usr/local/lib/python3.10/dist-packages (from trio-websocket~=0.9->selenium) (1.2.0)\n",
            "Requirement already satisfied: PySocks!=1.5.7,<2.0,>=1.5.6 in /usr/local/lib/python3.10/dist-packages (from urllib3[socks]<3,>=1.26->selenium) (1.7.1)\n",
            "Requirement already satisfied: h11<1,>=0.9.0 in /usr/local/lib/python3.10/dist-packages (from wsproto>=0.14->trio-websocket~=0.9->selenium) (0.14.0)\n"
          ]
        },
        {
          "output_type": "execute_result",
          "data": {
            "text/plain": []
          },
          "metadata": {},
          "execution_count": 6
        }
      ]
    },
    {
      "cell_type": "code",
      "source": [
        "import time\n",
        "import pandas as pd\n",
        "from selenium import webdriver\n",
        "from selenium.webdriver.chrome.options import Options\n",
        "from selenium.webdriver.common.by import By\n",
        "\n",
        "movie_info = [\n",
        "    ('https://www.imdb.com/title/tt5971474/reviews', 'The Little Mermaid'),\n",
        "    ('https://www.imdb.com/title/tt5635026/reviews', 'Peter Pan & Wendy'),\n",
        "    ('https://www.imdb.com/title/tt2527336/reviews', 'Star Wars: The Last Jedi'),\n",
        "    ('https://www.imdb.com/title/tt4154664/reviews', 'Captain Marvel')\n",
        "]\n",
        "\n",
        "options = Options()\n",
        "options.add_argument(\"--headless\")\n",
        "options.add_argument(\"--no-sandbox\")\n",
        "\n",
        "options.headless = True\n",
        "\n",
        "driver = webdriver.Chrome(\"/usr/bin/chromedriver\", options=options)\n",
        "\n",
        "titles = []\n",
        "contents = []\n",
        "ratings = []\n",
        "dates = []\n",
        "user_names = []\n",
        "movie_titles = []\n",
        "\n",
        "for movie_url, movie_title in movie_info:\n",
        "    driver.get(movie_url)\n",
        "\n",
        "    for i in range(5000):\n",
        "        try:\n",
        "            css_selector = 'load-more-trigger'\n",
        "            driver.find_element(By.ID, css_selector).click()\n",
        "            time.sleep(2)  # Small delay to allow the reviews to load before proceeding\n",
        "        except:\n",
        "            pass\n",
        "\n",
        "    reviews = driver.find_elements(By.CSS_SELECTOR, '.lister-item-content')\n",
        "\n",
        "    for review in reviews:\n",
        "        try:\n",
        "            # Extracting the title, content, rating, date, and username for each review\n",
        "            review_title = review.find_element(By.CSS_SELECTOR, '.title').text\n",
        "            review_content = review.find_element(By.CSS_SELECTOR, '.text').text\n",
        "            review_rating = review.find_element(By.CSS_SELECTOR, '.rating-other-user-rating').text\n",
        "            review_date = review.find_element(By.CSS_SELECTOR, '.review-date').text\n",
        "            review_user = review.find_element(By.CSS_SELECTOR, '.display-name-link').text\n",
        "\n",
        "            # Appending to lists\n",
        "            titles.append(review_title)\n",
        "            contents.append(review_content)\n",
        "            ratings.append(review_rating)\n",
        "            dates.append(review_date)\n",
        "            user_names.append(review_user)\n",
        "            movie_titles.append(movie_title)\n",
        "        except:\n",
        "            continue\n",
        "\n",
        "# Build a data dictionary\n",
        "data = {\n",
        "    'Movie_title': movie_titles,\n",
        "    'User_name': user_names,\n",
        "    'Review_title': titles,\n",
        "    'Review_rating': ratings,\n",
        "    'Review_date': dates,\n",
        "    'Review_body': contents\n",
        "}\n",
        "\n",
        "\n",
        "review_df = pd.DataFrame(data)\n",
        "\n",
        "review_df.to_csv('movie_reviews.csv', index=False)\n",
        "\n",
        "# Close the webdriver\n",
        "driver.quit()\n",
        "\n"
      ],
      "metadata": {
        "colab": {
          "base_uri": "https://localhost:8080/"
        },
        "id": "zgtvY7KOKR3t",
        "outputId": "c3e77557-bab5-4173-a434-7bf42ca5d7db"
      },
      "execution_count": null,
      "outputs": [
        {
          "metadata": {
            "tags": null
          },
          "name": "stderr",
          "output_type": "stream",
          "text": [
            "<ipython-input-7-14643b8c5f40>:19: DeprecationWarning: headless property is deprecated, instead use add_argument('--headless') or add_argument('--headless=new')\n",
            "  options.headless = True\n",
            "<ipython-input-7-14643b8c5f40>:21: DeprecationWarning: executable_path has been deprecated, please pass in a Service object\n",
            "  driver = webdriver.Chrome(\"/usr/bin/chromedriver\", options=options)\n"
          ]
        }
      ]
    }
  ]
}